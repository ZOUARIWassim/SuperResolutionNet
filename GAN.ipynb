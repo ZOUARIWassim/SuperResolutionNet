{
 "cells": [
  {
   "cell_type": "code",
   "execution_count": 2,
   "metadata": {},
   "outputs": [],
   "source": [
    "import torch\n",
    "import torch.nn as nn\n",
    "import torch.nn.functional as F\n",
    "import torch.optim as optim"
   ]
  },
  {
   "cell_type": "markdown",
   "metadata": {},
   "source": [
    "## Model"
   ]
  },
  {
   "cell_type": "code",
   "execution_count": 11,
   "metadata": {},
   "outputs": [],
   "source": [
    "class Generator(nn.Module):\n",
    "    def __init__(self, z_dim=100):\n",
    "        super(Generator, self).__init__()\n",
    "        self.model = nn.Sequential(\n",
    "            nn.ConvTranspose2d(z_dim, 512, 4, 1, 0, bias=False),\n",
    "            nn.BatchNorm2d(512),\n",
    "            nn.ReLU(True),\n",
    "            \n",
    "            nn.ConvTranspose2d(512, 256, 4, 2, 1, bias=False),\n",
    "            nn.BatchNorm2d(256),\n",
    "            nn.ReLU(True),\n",
    "\n",
    "            nn.ConvTranspose2d(256, 128, 4, 2, 1, bias=False),\n",
    "            nn.BatchNorm2d(128),\n",
    "            nn.ReLU(True),\n",
    "\n",
    "            nn.ConvTranspose2d(128, 64, 4, 2, 1, bias=False),\n",
    "            nn.BatchNorm2d(64),\n",
    "            nn.ReLU(True),\n",
    "\n",
    "            nn.ConvTranspose2d(64, 3, 4, 2, 1, bias=False),\n",
    "            nn.Tanh() \n",
    "        )\n",
    "    def forward(self, z):\n",
    "        output = self.model(z)\n",
    "        return output\n",
    "\n",
    "\n",
    "class Discriminator(nn.Module):\n",
    "    def __init__(self):\n",
    "        super(Discriminator, self).__init__()\n",
    "        self.model = nn.Sequential(\n",
    "            nn.Conv2d(3, 64, 4, 2, 1, bias=False),\n",
    "            nn.LeakyReLU(0.2, inplace=True),\n",
    "\n",
    "            nn.Conv2d(64, 128, 4, 2, 1, bias=False),\n",
    "            nn.BatchNorm2d(128),\n",
    "            nn.LeakyReLU(0.2, inplace=True),\n",
    "\n",
    "            nn.Conv2d(128, 256, 4, 2, 1, bias=False),\n",
    "            nn.BatchNorm2d(256),\n",
    "            nn.LeakyReLU(0.2, inplace=True),\n",
    "\n",
    "            nn.Conv2d(256, 512, 4, 2, 1, bias=False),\n",
    "            nn.BatchNorm2d(512),\n",
    "            nn.LeakyReLU(0.2, inplace=True),\n",
    "\n",
    "            nn.Conv2d(512, 1, 4, 1, 0, bias=False),\n",
    "            nn.Sigmoid()  \n",
    "        )\n",
    "    def forward(self, img):\n",
    "        output = self.model(img).view(-1, 1).squeeze(1)\n",
    "        return output\n"
   ]
  },
  {
   "cell_type": "code",
   "execution_count": null,
   "metadata": {},
   "outputs": [],
   "source": [
    "Discriminator = Discriminator()\n",
    "Generator = Generator(100)"
   ]
  },
  {
   "cell_type": "code",
   "execution_count": null,
   "metadata": {},
   "outputs": [],
   "source": [
    "Optimizer_Discriminator = optim.Adam(Discriminator.parameters(), lr=0.0002, betas=(0.5, 0.999))\n",
    "Optimizer_Generator = optim.Adam(Generator.parameters(), lr=0.0002, betas=(0.5, 0.999))"
   ]
  },
  {
   "cell_type": "code",
   "execution_count": null,
   "metadata": {},
   "outputs": [],
   "source": [
    "criterion = nn.BCELoss()"
   ]
  },
  {
   "cell_type": "code",
   "execution_count": 13,
   "metadata": {},
   "outputs": [],
   "source": [
    "def train(Generator, Discriminator, criterion, train_loader, val_loader, epochs = 20, device = 'cpu'):\n",
    "    for epoch in range(epochs):\n",
    "        for batch in train_loader:\n",
    "            Discriminator.train()\n",
    "            Generator.eval()\n",
    "            Discriminator.zero_grad()\n",
    "            \n",
    "            preds = Discriminator(batch.to(device))\n",
    "            real_loss = criterion(preds, torch.ones_like(preds))\n",
    "            real_loss.backward()\n",
    "            \n",
    "            fake_batch = Generator(torch.randn(batch.size(0), 100, 1, 1).to(device))\n",
    "            fake_preds = Discriminator(fake_batch)\n",
    "            fake_loss = criterion(fake_preds, torch.zeros_like(fake_preds))\n",
    "            fake_loss.backward()\n",
    "            \n",
    "            Optimizer_Discriminator.step()\n",
    "            \n",
    "            Discriminator.eval()\n",
    "            Generator.train()\n",
    "            Generator.zero_grad()\n",
    "            \n",
    "            forged_batch = Generator(torch.randn(batch.size(0), 100, 1, 1).to(device))\n",
    "            forged_preds = Discriminator(forged_batch)\n",
    "            forged_loss = criterion(forged_preds, torch.ones_like(forged_preds))\n",
    "            forged_loss.backward()\n",
    "            \n",
    "            Optimizer_Generator.step()\n",
    "        \n",
    "        print(f\"Epoch: {epoch+1}/{epochs} | Real Loss: {real_loss.item()} | Fake Loss: {fake_loss.item()} | Forged Loss: {forged_loss.item()}\")\n"
   ]
  }
 ],
 "metadata": {
  "kernelspec": {
   "display_name": "Python 3",
   "language": "python",
   "name": "python3"
  },
  "language_info": {
   "codemirror_mode": {
    "name": "ipython",
    "version": 3
   },
   "file_extension": ".py",
   "mimetype": "text/x-python",
   "name": "python",
   "nbconvert_exporter": "python",
   "pygments_lexer": "ipython3",
   "version": "3.12.6"
  }
 },
 "nbformat": 4,
 "nbformat_minor": 2
}
